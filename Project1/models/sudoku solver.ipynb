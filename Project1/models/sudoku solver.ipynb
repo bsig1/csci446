{
 "cells": [
  {
   "cell_type": "code",
   "execution_count": null,
   "id": "initial_id",
   "metadata": {
    "collapsed": true
   },
   "outputs": [],
   "source": [
    "class Board:\n",
    "    def __init__(self):\n",
    "        self.state = [[0,0,0] for _ in range(3)]\n",
    "    def set_board_from_file(self,filename):\n",
    "        pass\n",
    "\n",
    "class Solver:\n",
    "    def __init__(self,board: Board):\n",
    "        self.board = board\n",
    "    def solve_btc(self):\n",
    "        pass\n",
    "\n",
    "    def solve_fcc(self):\n",
    "        pass\n",
    "\n",
    "    def solve(self,algorithm: str):\n",
    "        \"\"\"\n",
    "\n",
    "        :param algorithm: Takes an argument for solving method, accepted values are:\n",
    "            btc: backtracking\n",
    "            fcc: forwardchecking\n",
    "            ...\n",
    "        :return:\n",
    "        \"\"\"\n",
    "        if algorithm == \"btc\":\n",
    "            self.solve_btc()"
   ]
  }
 ],
 "metadata": {
  "kernelspec": {
   "display_name": "Python 3",
   "language": "python",
   "name": "python3"
  },
  "language_info": {
   "codemirror_mode": {
    "name": "ipython",
    "version": 2
   },
   "file_extension": ".py",
   "mimetype": "text/x-python",
   "name": "python",
   "nbconvert_exporter": "python",
   "pygments_lexer": "ipython2",
   "version": "2.7.6"
  }
 },
 "nbformat": 4,
 "nbformat_minor": 5
}
