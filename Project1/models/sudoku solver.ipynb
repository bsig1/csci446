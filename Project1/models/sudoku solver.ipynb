{
 "cells": [
  {
   "cell_type": "code",
   "execution_count": null,
   "id": "initial_id",
   "metadata": {
    "collapsed": true
   },
   "outputs": [],
   "source": [
    "class Board:\n",
    "    def __init__(self):\n",
    "        self.state = [[0]*9 for _ in range(9)]\n",
    "    def set_board_from_file(self,filename):\n",
    "        pass\n",
    "\n",
    "class BacktrackingSolver:\n",
    "    def __init__(self,board):\n",
    "        self.decisionCount = 0\n",
    "        self.board = board\n",
    "        solve()\n",
    "    def solve(self):\n",
    "        pass\n",
    "\n",
    "class ForwardCheckingSolver:\n",
    "    def __init__(self,board):\n",
    "        self.decisionCount = 0\n",
    "        self.board = board\n",
    "        solve()\n",
    "    def solve(self):\n",
    "        pass\n",
    "\n",
    "class AC3Solver:\n",
    "    def __init__(self,board):\n",
    "        self.decisionCount = 0\n",
    "        self.board = board\n",
    "        solve()\n",
    "    def solve(self):\n",
    "        pass\n",
    "\n",
    "class SimulatedAnnealingSolver:\n",
    "    def __init__(self,board):\n",
    "        self.decisionCount = 0\n",
    "        self.board = board\n",
    "        solve()\n",
    "    def solve(self):\n",
    "        pass\n",
    "\n",
    "class GeneticSolver:\n",
    "    def __init__(self,board):\n",
    "        self.decisionCount = 0\n",
    "        self.board = board\n",
    "        solve()\n",
    "    def solve(self):\n",
    "        pass\n"
   ]
  }
 ],
 "metadata": {
  "kernelspec": {
   "display_name": "Python 3",
   "language": "python",
   "name": "python3"
  },
  "language_info": {
   "codemirror_mode": {
    "name": "ipython",
    "version": 2
   },
   "file_extension": ".py",
   "mimetype": "text/x-python",
   "name": "python",
   "nbconvert_exporter": "python",
   "pygments_lexer": "ipython2",
   "version": "2.7.6"
  }
 },
 "nbformat": 4,
 "nbformat_minor": 5
}
