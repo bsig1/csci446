{
 "cells": [
  {
   "cell_type": "code",
   "execution_count": null,
   "id": "initial_id",
   "metadata": {
    "collapsed": true
   },
   "outputs": [],
   "source": [
    "from dataclasses import dataclass\n",
    "\n",
    "\n",
    "@dataclass\n",
    "class Edge:\n",
    "    pass\n",
    "\n",
    "@dataclass\n",
    "class Node:\n",
    "    pass\n",
    "\n",
    "class Graph:\n",
    "    pass\n",
    "\n",
    "class InputReader:\n",
    "    pass\n",
    "\n",
    "class Solver:\n",
    "    pass\n",
    "\n",
    "class OutputWriter:\n",
    "    pass\n"
   ]
  }
 ],
 "metadata": {
  "kernelspec": {
   "display_name": "Python 3",
   "language": "python",
   "name": "python3"
  },
  "language_info": {
   "codemirror_mode": {
    "name": "ipython",
    "version": 2
   },
   "file_extension": ".py",
   "mimetype": "text/x-python",
   "name": "python",
   "nbconvert_exporter": "python",
   "pygments_lexer": "ipython2",
   "version": "2.7.6"
  }
 },
 "nbformat": 4,
 "nbformat_minor": 5
}
