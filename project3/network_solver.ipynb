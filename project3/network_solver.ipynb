{
 "cells": [
  {
   "cell_type": "code",
   "execution_count": null,
   "id": "initial_id",
   "metadata": {
    "collapsed": true
   },
   "outputs": [],
   "source": [
    "from dataclasses import dataclass\n",
    "\n",
    "\n",
    "@dataclass\n",
    "class Node:\n",
    "    name: str\n",
    "    connections: set\n",
    "\n",
    "    def get_subgraph(self, ignore: set = None) -> set:\n",
    "        \"\"\"\n",
    "        :param ignore: Nodes that are not looked at when generating the subgraph\n",
    "        :return: a set of connected nodes to self\n",
    "        \"\"\"\n",
    "        subgraph: set = ignore or set()\n",
    "        check_queue = list(self.connections)\n",
    "        while check_queue:\n",
    "            edge = check_queue.pop()\n",
    "            size_before = len(subgraph)\n",
    "            subgraph.add(edge.from_node)\n",
    "            subgraph.add(edge.to_node)\n",
    "            if size_before != len(subgraph): # If a new node is found, add its connections\n",
    "                check_queue.extend(list(edge.from_node.connections))\n",
    "                check_queue.extend(list(edge.to_node.connections))\n",
    "        return subgraph if not ignore else subgraph.difference(ignore)\n",
    "\n",
    "    def validate(self):\n",
    "        total = 0\n",
    "        for edge in self.connections:\n",
    "            total += edge.weight\n",
    "        return total == 1.0\n",
    "\n",
    "@dataclass\n",
    "class Edge:\n",
    "    from_node: Node\n",
    "    to_node: Node\n",
    "    weight: int\n",
    "\n",
    "class Network:\n",
    "    def __init__(self, nodes: set = None):\n",
    "        self.nodes = nodes or set()\n",
    "\n",
    "    def add_node(self, node: Node):\n",
    "        self.nodes.update(node.get_subgraph(ignore=self.nodes))\n",
    "\n",
    "    def add_edge(self, node1: Node, node2: Node, weight: int):\n",
    "        self.nodes.add(node1)\n",
    "        self.nodes.add(node2)\n",
    "        edge = Edge(node1, node2, weight)\n",
    "        node1.connections.add(edge)\n",
    "        node2.connections.add(edge)\n",
    "\n",
    "class InputReader:\n",
    "    pass\n",
    "\n",
    "class Solver:\n",
    "    pass\n",
    "\n",
    "class OutputWriter:\n",
    "    pass\n"
   ]
  }
 ],
 "metadata": {
  "kernelspec": {
   "display_name": "Python 3",
   "language": "python",
   "name": "python3"
  },
  "language_info": {
   "codemirror_mode": {
    "name": "ipython",
    "version": 2
   },
   "file_extension": ".py",
   "mimetype": "text/x-python",
   "name": "python",
   "nbconvert_exporter": "python",
   "pygments_lexer": "ipython2",
   "version": "2.7.6"
  }
 },
 "nbformat": 4,
 "nbformat_minor": 5
}
