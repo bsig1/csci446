{
 "cells": [
  {
   "cell_type": "code",
   "id": "initial_id",
   "metadata": {
    "collapsed": true,
    "ExecuteTime": {
     "end_time": "2025-09-17T20:11:53.458127Z",
     "start_time": "2025-09-17T20:11:53.445448Z"
    }
   },
   "source": [
    "from enum import Enum\n",
    "from typing import List, Union\n",
    "\n",
    "\n",
    "class LogicOperator(Enum):\n",
    "    AND = 1\n",
    "    OR = 2\n",
    "    NOT = 3\n",
    "    LPAREN = 4\n",
    "    RPAREN = 5\n",
    "\n",
    "class LogicTerminal(Enum):\n",
    "    UNKNOWN = -1\n",
    "    F = 0\n",
    "    T = 1\n",
    "\n",
    "class LogicExpression:\n",
    "    def  __init__(self):\n",
    "        self.variables = {}\n",
    "        self.expression = []\n",
    "\n",
    "    def __str__(self):\n",
    "        parts = []\n",
    "        for value in self.expression:\n",
    "            if isinstance(value, str): parts.append(value)\n",
    "            else: parts.append(value.name)\n",
    "        return \" \".join(parts)\n",
    "\n",
    "    def __iter__(self):\n",
    "        \"\"\"\n",
    "        Iterates through the expression while substituting values in for variables.\n",
    "        \"\"\"\n",
    "        for token in self.expression:\n",
    "            if isinstance(token, str):\n",
    "                yield self.variables.get(token, LogicTerminal.UNKNOWN)\n",
    "            else:\n",
    "                yield token\n",
    "\n",
    "    def set_expression(self, expression: List[Union[LogicOperator, LogicTerminal, str]]):\n",
    "        \"\"\"\n",
    "        :param expression: Takes a list as an input, the list is an ordered sequence of 3 possible types:\n",
    "        --Logic Operators using the LogicOperator Enumerator\n",
    "        --Logic Terminals using the LogicTerminal enumerator\n",
    "        --Strings, these can be any value and represent variables within the logic.\n",
    "        This value is set and stored.\n",
    "        \"\"\"\n",
    "        for value in expression:\n",
    "            if isinstance(value, str):\n",
    "                self.variables[value] = LogicTerminal.UNKNOWN\n",
    "\n",
    "        self.expression = expression\n",
    "\n",
    "    def set_variable(self, variable, value) -> bool:\n",
    "        if variable not in self.variables:\n",
    "            return False\n",
    "        self.variables[variable] = value\n",
    "        return True\n",
    "\n",
    "\n",
    "class Agent:\n",
    "    def __init__(self):\n",
    "        pass\n",
    "\n",
    "    def evaluate(self, expression: LogicExpression) -> LogicTerminal:\n",
    "        pass\n"
   ],
   "outputs": [
    {
     "name": "stdout",
     "output_type": "stream",
     "text": [
      "['NULL', 'AND', 'NOT', 'OR', 'F', 'T']\n"
     ]
    }
   ],
   "execution_count": 7
  }
 ],
 "metadata": {
  "kernelspec": {
   "display_name": "Python 3",
   "language": "python",
   "name": "python3"
  },
  "language_info": {
   "codemirror_mode": {
    "name": "ipython",
    "version": 2
   },
   "file_extension": ".py",
   "mimetype": "text/x-python",
   "name": "python",
   "nbconvert_exporter": "python",
   "pygments_lexer": "ipython2",
   "version": "2.7.6"
  }
 },
 "nbformat": 4,
 "nbformat_minor": 5
}
